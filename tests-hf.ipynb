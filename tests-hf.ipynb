{
 "cells": [
  {
   "cell_type": "markdown",
   "metadata": {},
   "source": [
    "Inference API\n"
   ]
  },
  {
   "cell_type": "code",
   "execution_count": 5,
   "metadata": {},
   "outputs": [
    {
     "data": {
      "text/html": [
       "\n",
       "                <audio  controls=\"controls\" autoplay=\"autoplay\">\n",
       "                    <source src=\"data:audio/wav;base64,SW50ZXJuYWwgU2VydmVyIEVycm9y\" type=\"audio/wav\" />\n",
       "                    Your browser does not support the audio element.\n",
       "                </audio>\n",
       "              "
      ],
      "text/plain": [
       "<IPython.lib.display.Audio object>"
      ]
     },
     "execution_count": 5,
     "metadata": {},
     "output_type": "execute_result"
    }
   ],
   "source": [
    "from dotenv import find_dotenv, load_dotenv\n",
    "import os\n",
    "import requests\n",
    "\n",
    "load_dotenv(find_dotenv())\n",
    "HUGGINGFACEHUB_API_TOKEN = os.getenv(\"HUGGINGFACEHUB_API_TOKEN\")\n",
    "\n",
    "\n",
    "# text to speech - to read the story\n",
    "def text2speech(text: str):\n",
    "    API_URL = \"https://api-inference.huggingface.co/models/microsoft/speecht5_tts\"\n",
    "    headers = {\"Authorization\": f\"Bearer {HUGGINGFACEHUB_API_TOKEN}\"}\n",
    "\n",
    "    def query(payload):\n",
    "        response = requests.post(API_URL, headers=headers, json=payload)\n",
    "        return response.content\n",
    "\n",
    "    audio_bytes = query({\"inputs\": text})\n",
    "    return audio_bytes\n",
    "\n",
    "\n",
    "audio_bytes = text2speech(\"Hi I'm Warren\")\n",
    "\n",
    "from IPython.display import Audio\n",
    "\n",
    "Audio(audio_bytes, autoplay=True)\n",
    "\n",
    "# print(bytes)"
   ]
  },
  {
   "cell_type": "code",
   "execution_count": 2,
   "metadata": {},
   "outputs": [
    {
     "name": "stdout",
     "output_type": "stream",
     "text": [
      "ChatCompletionOutputMessage(role='assistant', content='The capital of France is Paris.', tool_calls=None)\n"
     ]
    }
   ],
   "source": [
    "from huggingface_hub import InferenceClient\n",
    "from dotenv import find_dotenv, load_dotenv\n",
    "import os\n",
    "\n",
    "load_dotenv(find_dotenv())\n",
    "HUGGINGFACEHUB_API_TOKEN = os.getenv(\"HUGGINGFACEHUB_API_TOKEN\")\n",
    "\n",
    "client = InferenceClient(api_key=HUGGINGFACEHUB_API_TOKEN)\n",
    "\n",
    "messages = [{\"role\": \"user\", \"content\": \"What is the capital of France?\"}]\n",
    "\n",
    "completion = client.chat.completions.create(\n",
    "    model=\"Qwen/Qwen2.5-72B-Instruct\", messages=messages, max_tokens=500\n",
    ")\n",
    "\n",
    "print(completion.choices[0].message)"
   ]
  },
  {
   "cell_type": "markdown",
   "metadata": {},
   "source": [
    "GPT2\n"
   ]
  },
  {
   "cell_type": "code",
   "execution_count": null,
   "metadata": {},
   "outputs": [],
   "source": [
    "from transformers import AutoTokenizer, AutoModelForCausalLM, pipeline\n",
    "import torch\n",
    "\n",
    "device = 0 if torch.backends.mps.is_available() else -1\n",
    "\n",
    "\n",
    "def load_model():\n",
    "    tokenizer = AutoTokenizer.from_pretrained(\n",
    "        \"google/gemma-2-2b-it\",\n",
    "        padding_side=\"left\",\n",
    "    )\n",
    "    model = AutoModelForCausalLM.from_pretrained(\n",
    "        \"google/gemma-2-2b-it\", load_in_4bit=True\n",
    "    )\n",
    "    nlp_pipeline = pipeline(\n",
    "        \"text-generation\", model=model, tokenizer=tokenizer, device=device\n",
    "    )\n",
    "    return nlp_pipeline\n",
    "\n",
    "\n",
    "model_pipeline = load_model()\n",
    "prompt = f\"Whats your name?\"\n",
    "response = model_pipeline(prompt, max_new_tokens=150, num_return_sequences=1)[0][\n",
    "    \"generated_text\"\n",
    "]\n",
    "print(response)"
   ]
  },
  {
   "cell_type": "code",
   "execution_count": null,
   "metadata": {},
   "outputs": [],
   "source": [
    "from transformers import AutoTokenizer, AutoModelForCausalLM, pipeline\n",
    "import torch\n",
    "\n",
    "device = 0 if torch.backends.mps.is_available() else -1\n",
    "\n",
    "\n",
    "def load_model():\n",
    "    model = AutoModelForCausalLM.from_pretrained(\n",
    "        \"mistralai/Mistral-7B-v0.1\", device_map=\"auto\", load_in_4bit=True\n",
    "    )\n",
    "    tokenizer = AutoTokenizer.from_pretrained(\n",
    "        \"mistralai/Mistral-7B-v0.1\", padding_side=\"left\"\n",
    "    )\n",
    "    nlp_pipeline = pipeline(\n",
    "        \"text-generation\", model=model, tokenizer=tokenizer, device=device\n",
    "    )\n",
    "    return nlp_pipeline\n",
    "\n",
    "\n",
    "model_pipeline = load_model()\n",
    "prompt = f\"Whats your name? Short answer\"\n",
    "response = model_pipeline(prompt, max_new_tokens=150, num_return_sequences=1)[0][\n",
    "    \"generated_text\"\n",
    "]\n",
    "print(response)"
   ]
  },
  {
   "cell_type": "markdown",
   "metadata": {},
   "source": [
    "Inference API\n"
   ]
  },
  {
   "cell_type": "code",
   "execution_count": null,
   "metadata": {},
   "outputs": [],
   "source": [
    "# Demo HuggingFace Inference API (serverless)\n",
    "import requests\n",
    "import os\n",
    "\n",
    "HUGGINGFACEHUB_API_TOKEN = os.getenv(\"HUGGINGFACEHUB_API_TOKEN\")\n",
    "\n",
    "headers = {\"Authorization\": f\"Bearer {HUGGINGFACEHUB_API_TOKEN}\"}\n",
    "API_URL = \"https://api-inference.huggingface.co/models/microsoft/speecht5_tts\"\n",
    "\n",
    "\n",
    "def query(payload):\n",
    "    response = requests.post(API_URL, headers=headers, json=payload)\n",
    "    return response.content\n",
    "\n",
    "\n",
    "audio_bytes = query(\n",
    "    {\n",
    "        \"inputs\": \"The answer to the universe is 42\",\n",
    "    }\n",
    ")\n",
    "# You can access the audio with IPython.display for example\n",
    "from IPython.display import Audio\n",
    "\n",
    "Audio(audio_bytes)\n",
    "print(audio_bytes)"
   ]
  },
  {
   "cell_type": "markdown",
   "metadata": {},
   "source": []
  }
 ],
 "metadata": {
  "kernelspec": {
   "display_name": ".venv",
   "language": "python",
   "name": "python3"
  },
  "language_info": {
   "codemirror_mode": {
    "name": "ipython",
    "version": 3
   },
   "file_extension": ".py",
   "mimetype": "text/x-python",
   "name": "python",
   "nbconvert_exporter": "python",
   "pygments_lexer": "ipython3",
   "version": "3.9.20"
  }
 },
 "nbformat": 4,
 "nbformat_minor": 2
}
