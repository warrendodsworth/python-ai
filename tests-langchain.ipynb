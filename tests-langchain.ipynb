{
 "cells": [
  {
   "cell_type": "markdown",
   "metadata": {},
   "source": [
    "Langchain Tests\n"
   ]
  },
  {
   "cell_type": "code",
   "execution_count": null,
   "metadata": {},
   "outputs": [],
   "source": [
    "from langchain import PromptTemplate, LLMChain, OpenAI\n",
    "from dotenv import find_dotenv, load_dotenv\n",
    "\n",
    "load_dotenv(find_dotenv())\n",
    "\n",
    "\n",
    "def generate_story(scenario):\n",
    "    template: f\"\"\"\n",
    "      You are a storyteller. You can generate a short story based on a simple narrative. Your story should be no more than 20 words.\n",
    "\n",
    "      CONTEXT: {scenario}\n",
    "      STORY:\n",
    "    \"\"\"\n",
    "    prompt = PromptTemplate(template=template, input_variables=\"[scenario]\")\n",
    "    story_llm = LLMChain(\n",
    "        llm=OpenAI(model_name=\"gpt-3.5-turbo\", temperature=1),\n",
    "        prompt=prompt,\n",
    "        verbose=True,\n",
    "    )\n",
    "\n",
    "    story = story_llm.predict(scenario=scenario)\n",
    "    print(story)\n",
    "    return story\n",
    "\n",
    "\n",
    "story = generate_story(\"a church in the shadows\")"
   ]
  }
 ],
 "metadata": {
  "kernelspec": {
   "display_name": ".venv",
   "language": "python",
   "name": "python3"
  },
  "language_info": {
   "name": "python",
   "version": "3.9.20"
  }
 },
 "nbformat": 4,
 "nbformat_minor": 2
}
