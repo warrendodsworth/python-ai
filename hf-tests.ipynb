{
 "cells": [
  {
   "cell_type": "markdown",
   "metadata": {},
   "source": [
    "### Overview\n",
    "\n",
    "Learning Huggingface use of AI models\n",
    "\n",
    "For PyTorch, check if the M1 GPU is available:"
   ]
  },
  {
   "cell_type": "code",
   "execution_count": null,
   "metadata": {},
   "outputs": [
    {
     "name": "stdout",
     "output_type": "stream",
     "text": [
      "True\n"
     ]
    }
   ],
   "source": [
    "import torch\n",
    "print(torch.backends.mps.is_available())  # Check if MPS (Metal Performance Shaders) is available."
   ]
  },
  {
   "cell_type": "code",
   "execution_count": null,
   "metadata": {},
   "outputs": [],
   "source": [
    "# Usage example\n",
    "from transformers import pipeline\n",
    "\n",
    "# Set up the pipeline to use the appropriate device (1 for GPU, -1 for CPU)\n",
    "device = 0 if torch.backends.mps.is_available() else -1\n",
    "\n",
    "# Load the model using the pipeline\n",
    "image_2_text = pipeline('image-to-text', model=\"Salesforce/blip-image-captioning-base\", device=device)\n",
    "\n",
    "# Use the model on an image URL\n",
    "# text = image_2_text(url)[0]['generated_text']\n",
    "# print(text)"
   ]
  },
  {
   "cell_type": "markdown",
   "metadata": {},
   "source": [
    "### OpenSSL \n",
    "Check installation"
   ]
  },
  {
   "cell_type": "code",
   "execution_count": 1,
   "metadata": {},
   "outputs": [
    {
     "name": "stdout",
     "output_type": "stream",
     "text": [
      "LibreSSL 2.8.3\n"
     ]
    }
   ],
   "source": [
    "import ssl\n",
    "print(ssl.OPENSSL_VERSION)"
   ]
  }
 ],
 "metadata": {
  "kernelspec": {
   "display_name": ".venv",
   "language": "python",
   "name": "python3"
  },
  "language_info": {
   "codemirror_mode": {
    "name": "ipython",
    "version": 3
   },
   "file_extension": ".py",
   "mimetype": "text/x-python",
   "name": "python",
   "nbconvert_exporter": "python",
   "pygments_lexer": "ipython3",
   "version": "3.9.6"
  }
 },
 "nbformat": 4,
 "nbformat_minor": 2
}
